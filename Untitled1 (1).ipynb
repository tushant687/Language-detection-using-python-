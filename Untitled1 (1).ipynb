{
 "cells": [
  {
   "cell_type": "code",
   "execution_count": 1,
   "id": "7bc4e381-5a02-4978-a30f-af39a711a335",
   "metadata": {},
   "outputs": [],
   "source": [
    "import pandas as pd\n",
    "import numpy as np\n",
    "from sklearn.feature_extraction.text import CountVectorizer\n",
    "from sklearn.model_selection import train_test_split\n",
    "from sklearn.naive_bayes import MultinomialNB"
   ]
  },
  {
   "cell_type": "code",
   "execution_count": 2,
   "id": "3312415b-a749-43eb-bfce-41978c3c94f5",
   "metadata": {},
   "outputs": [],
   "source": [
    "# Load data from the CSV file\n",
    "data = pd.read_csv(r\"C:\\Users\\ASUS\\OneDrive\\Desktop\\Language Detection Model\\language.csv\")"
   ]
  },
  {
   "cell_type": "code",
   "execution_count": 3,
   "id": "aeb2a573-5ebb-449b-bd00-4b81726c3ada",
   "metadata": {},
   "outputs": [],
   "source": [
    "#Check for null values\n",
    "null_values = data.isnull().sum()\n",
    "if null_values.any():\n",
    "    print(\"The dataset contains null values. Please clean the data.\")\n",
    "    exit()"
   ]
  },
  {
   "cell_type": "code",
   "execution_count": null,
   "id": "0124283a-fdcd-42b6-9588-3d52ec4e2321",
   "metadata": {},
   "outputs": [],
   "source": [
    "# Display value counts of the \"language\" column\n",
    "print(data[\"language\"].value_counts())"
   ]
  },
  {
   "cell_type": "code",
   "execution_count": 5,
   "id": "7609bb25-d8cb-4540-aca5-41dc61a3559d",
   "metadata": {},
   "outputs": [],
   "source": [
    "# Prepare features (X) and labels (y)\n",
    "x = np.array(data[\"Text\"])\n",
    "y = np.array(data[\"language\"])"
   ]
  },
  {
   "cell_type": "code",
   "execution_count": 6,
   "id": "54b10fe6-ba98-4ba9-bca1-a8e3c5aa3534",
   "metadata": {},
   "outputs": [],
   "source": [
    "# Transform text data into numerical format\n",
    "cv = CountVectorizer()\n",
    "X = cv.fit_transform(x)\n",
    "# Split the data into training and test sets\n",
    "X_train, X_test, y_train, y_test = train_test_split(X, y, test_size=0.33, random_state=42)"
   ]
  },
  {
   "cell_type": "code",
   "execution_count": null,
   "id": "fd85fb46-5ab5-455c-8949-d0bc0a4b782e",
   "metadata": {},
   "outputs": [],
   "source": [
    "# Train the MultinomialNB model\n",
    "model = MultinomialNB()\n",
    "model.fit(X_train, y_train)\n"
   ]
  },
  {
   "cell_type": "code",
   "execution_count": null,
   "id": "2a64baee-fa3e-4e9d-8af8-718f864f919f",
   "metadata": {},
   "outputs": [],
   "source": [
    "# Evaluate the model\n",
    "score = model.score(X_test, y_test)\n",
    "print(f\"Model accuracy: {score * 100:.2f}%\")\n"
   ]
  },
  {
   "cell_type": "code",
   "execution_count": null,
   "id": "2a20cc6b-1fd9-44cd-b8e7-ae7d6deefd34",
   "metadata": {},
   "outputs": [],
   "source": [
    "# Predict user input\n",
    "while True:\n",
    "    user = input(\"Enter a Text (or type 'exit' to quit): \")\n",
    "    if user.lower() == 'exit':\n",
    "        print(\"Exiting program.\")\n",
    "        break\n",
    "    data = cv.transform([user]).toarray()\n",
    "    output = model.predict(data)\n",
    "    print(f\"Predicted Language: {output[0]}\")\n"
   ]
  }
 ],
 "metadata": {
  "kernelspec": {
   "display_name": "Python 3",
   "language": "python",
   "name": "python3"
  },
  "language_info": {
   "codemirror_mode": {
    "name": "ipython",
    "version": 3
   },
   "file_extension": ".py",
   "mimetype": "text/x-python",
   "name": "python",
   "nbconvert_exporter": "python",
   "pygments_lexer": "ipython3",
   "version": "3.13.0"
  }
 },
 "nbformat": 4,
 "nbformat_minor": 5
}
